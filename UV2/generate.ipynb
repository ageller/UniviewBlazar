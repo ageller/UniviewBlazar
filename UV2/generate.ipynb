{
 "cells": [
  {
   "cell_type": "markdown",
   "metadata": {},
   "source": [
    "# Uniview module for Blazar TXS 0506+056, for IceCube-170922A\n",
    "\n",
    "*Aaron Geller, 2018*\n",
    "\n",
    "### Imports and function definitions"
   ]
  },
  {
   "cell_type": "code",
   "execution_count": 55,
   "metadata": {},
   "outputs": [],
   "source": [
    "#This directory contains all the data needed for the module. It should be in the same directory as the notebook\n",
    "dataFolder = \"data\"\n",
    "\n",
    "\n",
    "import sys, os, shutil, errno, string, urllib\n",
    "\n",
    "\n",
    "sys.path.append(( os.path.abspath( os.path.join(os.path.realpath(\"__file__\"),  os.pardir,  os.pardir, os.pardir) )))\n",
    "#print(sys.path)\n",
    "import uvmodlib.v1 as uvmod"
   ]
  },
  {
   "cell_type": "markdown",
   "metadata": {},
   "source": [
    "### USES Conf Templates"
   ]
  },
  {
   "cell_type": "code",
   "execution_count": 56,
   "metadata": {},
   "outputs": [],
   "source": [
    "BlazarTemplate = \"\"\"mesh\n",
    "{  \n",
    "    data  blazar ./modules/$folderName/BlazarSolidModel_v2.2.obj\n",
    "    \n",
    "#    cullRadius $cr\n",
    "    glslVersion 330\n",
    "    enableTypeCheck true\n",
    "    \n",
    "    propertyCollection \n",
    "    {        \n",
    "        __objectName__\n",
    "        {           \n",
    "            vec1f cloudAlpha 0.4 #| public | desc \"alpha for clouds\" | widget slider | range 0 1\n",
    "            vec1f jetAlpha 1.0 #| public | desc \"alpha for jet\" | widget slider | range 0 1\n",
    "        }\n",
    "    }\n",
    "\n",
    "    pass \n",
    "    {\n",
    "        \n",
    "        useDataObject blazar\n",
    "        \n",
    "        shader\n",
    "        {\n",
    "            \n",
    "            type defaultMeshShader\n",
    "            {\n",
    "                mtrl jetMaterial\n",
    "                vertexShader   ./modules/$folderName/blazar.vs\n",
    "                geometryShader ./modules/$folderName/jet.gs\n",
    "                fragmentShader ./modules/$folderName/jet.fs\n",
    "                \n",
    "                stateManagerVar __objectName__.jetAlpha  jetAlpha\n",
    "\n",
    "                glState\n",
    "                {\n",
    "                    UV_CULL_FACE_ENABLE false\n",
    "                    UV_BLEND_ENABLE true\n",
    "                    UV_DEPTH_ENABLE true\n",
    "                    UV_WRITE_MASK_DEPTH false\n",
    "                    UV_BLEND_FUNC GL_SRC_ALPHA GL_ONE_MINUS_SRC_ALPHA\n",
    "                }\n",
    "                \n",
    "            }            \n",
    "            type defaultMeshShader\n",
    "            {\n",
    "                mtrl blackHoleMaterial\n",
    "                vertexShader   ./modules/$folderName/blazar.vs\n",
    "                geometryShader ./modules/$folderName/blazar.gs\n",
    "                fragmentShader ./modules/$folderName/blazar.fs\n",
    "            }\n",
    "\n",
    "            type defaultMeshShader\n",
    "            {\n",
    "                mtrl accretionDiskMaterial\n",
    "                vertexShader   ./modules/$folderName/blazar.vs\n",
    "                geometryShader ./modules/$folderName/blazar.gs\n",
    "                fragmentShader ./modules/$folderName/accretionDisk.fs\n",
    "                texture cmap ./modules/$folderName/cmap.png\n",
    "                {             \n",
    "                    wrapModeS GL_CLAMP_TO_EDGE\n",
    "                    wrapModeR GL_CLAMP_TO_EDGE\n",
    "                }  \n",
    "            }\n",
    "\n",
    "            type defaultMeshShader\n",
    "            {\n",
    "                mtrl exteriorDiskMaterial\n",
    "                vertexShader   ./modules/$folderName/exteriorDisk.vs\n",
    "                geometryShader ./modules/$folderName/blazar.gs\n",
    "                fragmentShader ./modules/$folderName/exteriorDisk.fs\n",
    "                texture cmap ./modules/$folderName/cmap.png\n",
    "                {             \n",
    "                    wrapModeS GL_CLAMP_TO_EDGE\n",
    "                    wrapModeR GL_CLAMP_TO_EDGE\n",
    "                } \n",
    "            }\n",
    "\n",
    "            type defaultMeshShader\n",
    "            {\n",
    "                mtrl cloudMaterial\n",
    "                vertexShader   ./modules/$folderName/exteriorDisk.vs\n",
    "                geometryShader ./modules/$folderName/jet.gs\n",
    "                fragmentShader ./modules/$folderName/clouds.fs\n",
    "                texture cmap ./modules/$folderName/cmap.png\n",
    "                {             \n",
    "                    wrapModeS GL_CLAMP_TO_EDGE\n",
    "                    wrapModeR GL_CLAMP_TO_EDGE\n",
    "                } \n",
    "                \n",
    "                stateManagerVar __objectName__.cloudAlpha  cloudAlpha\n",
    "                \n",
    "                glState\n",
    "                {\n",
    "                    UV_CULL_FACE_ENABLE true\n",
    "                    UV_BLEND_ENABLE true\n",
    "                    UV_DEPTH_ENABLE true\n",
    "                    UV_WRITE_MASK_DEPTH false\n",
    "                    UV_BLEND_FUNC GL_SRC_ALPHA GL_ONE_MINUS_SRC_ALPHA\n",
    "                }\n",
    "            }\n",
    "\n",
    "\n",
    "        }\n",
    "            \n",
    "    }\n",
    "    \n",
    "\n",
    "    \n",
    "    \n",
    "}\"\"\""
   ]
  },
  {
   "cell_type": "markdown",
   "metadata": {},
   "source": [
    "### Blazar Class"
   ]
  },
  {
   "cell_type": "code",
   "execution_count": 57,
   "metadata": {},
   "outputs": [],
   "source": [
    "class BlazarClass():\n",
    "    def __init__(self, object):\n",
    "        self.object = object\n",
    "        uvmod.Utility.ensurerelativepathexsists(\"BlazarSolidModel_v2.2.obj\",dataFolder)\n",
    "        uvmod.Utility.ensurerelativepathexsists(\"blazar.vs\",dataFolder)\n",
    "        uvmod.Utility.ensurerelativepathexsists(\"blazar.gs\",dataFolder)        \n",
    "        uvmod.Utility.ensurerelativepathexsists(\"blazar.fs\",dataFolder)        \n",
    "        uvmod.Utility.ensurerelativepathexsists(\"jet.gs\",dataFolder)        \n",
    "        uvmod.Utility.ensurerelativepathexsists(\"jet.fs\",dataFolder)        \n",
    "        uvmod.Utility.ensurerelativepathexsists(\"accretionDisk.fs\",dataFolder)        \n",
    "        uvmod.Utility.ensurerelativepathexsists(\"exteriorDisk.vs\",dataFolder)        \n",
    "        uvmod.Utility.ensurerelativepathexsists(\"exteriorDisk.fs\",dataFolder)        \n",
    "        uvmod.Utility.ensurerelativepathexsists(\"clouds.fs\",dataFolder)        \n",
    "        self.cr = 1000\n",
    "    def generatemod(self):\n",
    "        self.object.setgeometry(self.object.name+\"Mesh.usesconf\")\n",
    "        return self.object.generatemod()\n",
    "    def generatefiles(self, absOutDir, relOutDir):\n",
    "        fileName = self.object.name+\"Mesh.usesconf\"\n",
    "        s = string.Template(BlazarTemplate)\n",
    "        f = open(absOutDir+\"\\\\\"+fileName, 'w')\n",
    "        if f:\n",
    "            f.write(s.substitute(folderName = relOutDir, cr = self.cr))\n",
    "            f.close()\n",
    "        uvmod.Utility.copyfoldercontents(os.getcwd()+\"\\\\\"+dataFolder, absOutDir)"
   ]
  },
  {
   "cell_type": "markdown",
   "metadata": {},
   "source": [
    "### Object Instantiation"
   ]
  },
  {
   "cell_type": "code",
   "execution_count": 58,
   "metadata": {},
   "outputs": [],
   "source": [
    "model = BlazarClass(uvmod.OrbitalObject())\n",
    "scene = uvmod.Scene()\n",
    "parentScene = uvmod.Scene()\n",
    "modinfo = uvmod.ModuleInformation()\n",
    "generator = uvmod.Generator()"
   ]
  },
  {
   "cell_type": "markdown",
   "metadata": {},
   "source": [
    "### Specify Settings and generate the module"
   ]
  },
  {
   "cell_type": "code",
   "execution_count": 59,
   "metadata": {},
   "outputs": [
    {
     "name": "stdout",
     "output_type": "stream",
     "text": [
      "Unable to connect to Uniview\n"
     ]
    }
   ],
   "source": [
    "scene.setname(\"Blazar\")\n",
    "scene.setparent(\"MilkyWay\")\n",
    "scene.setunit(1000.0)\n",
    "scene.setentrydist(100000.)\n",
    "scene.setstaticposition(391330246, 1744728860, 178257822)\n",
    "\n",
    "model.object.setname(\"Blazar\")\n",
    "model.object.setcoord(scene.name)\n",
    "model.object.setcameraradius(10)\n",
    "model.object.settargetradius(2000)\n",
    "model.object.setguiname(\"/KavliLecture/Larson/Blazar\")\n",
    "model.object.setscalefactor(660.0)\n",
    "model.object.showatstartup(False)\n",
    "\n",
    "#model.cr = 10000\n",
    "\n",
    "modinfo.setname(\"Blazar Model\")\n",
    "modinfo.setauthor(\"Aaron Geller<sup>1</sup> and Shane Larson<sup>2</sup><br />(1)Adler Planetarium,<br />(2)Northwestern University\")\n",
    "modinfo.cleardependencies()\n",
    "modinfo.setdesc(\"A 3D model of the Blazar TXS 0506+056 to accompany the IceCube discovery.\")\n",
    "modinfo.setversion(\"1.0\")\n",
    "\n",
    "generator.generate(\"Blazar\",[scene],[model],modinfo)\n",
    "uvmod.Utility.senduvcommand(model.object.name+\".reload;\")"
   ]
  },
  {
   "cell_type": "markdown",
   "metadata": {},
   "source": [
    "## To reload"
   ]
  },
  {
   "cell_type": "code",
   "execution_count": 47,
   "metadata": {},
   "outputs": [],
   "source": [
    "from config import Settings"
   ]
  },
  {
   "cell_type": "code",
   "execution_count": 61,
   "metadata": {},
   "outputs": [],
   "source": [
    "uvmod.Utility.copyfoldercontents(os.getcwd()+\"\\\\\"+dataFolder, Settings.uvcustommodulelocation+'\\\\'+model.object.name)\n",
    "uvmod.Utility.senduvcommand(model.object.name+\".reload;\")"
   ]
  },
  {
   "cell_type": "markdown",
   "metadata": {},
   "source": [
    "### Create colormap texture"
   ]
  },
  {
   "cell_type": "code",
   "execution_count": 2,
   "metadata": {
    "scrolled": true
   },
   "outputs": [
    {
     "data": {
      "image/png": "[encoded data removed]",
      "text/plain": [
       "<Figure size 432x288 with 1 Axes>"
      ]
     },
     "metadata": {},
     "output_type": "display_data"
    }
   ],
   "source": [
    "import numpy as np\n",
    "import matplotlib.pyplot as plt\n",
    "from matplotlib import cm\n",
    "\n",
    "gradient = np.linspace(0, 1, 256)\n",
    "gradient = np.vstack((gradient, gradient))\n",
    "\n",
    "def plot_cmap(colormap):\n",
    "    fig=plt.imshow(gradient, aspect=1, cmap=colormap)\n",
    "    plt.axis('off')\n",
    "    fig.axes.get_xaxis().set_visible(False)\n",
    "    fig.axes.get_yaxis().set_visible(False)\n",
    "    plt.savefig(\"data/cmap.png\", bbox_inches='tight',pad_inches=0)\n",
    "\n",
    "plot_cmap('Blues')\n",
    "\n",
    "plt.show()"
   ]
  },
  {
   "cell_type": "markdown",
   "metadata": {},
   "source": [
    "## Blazar position \n",
    "\n",
    "*From the [wikipedia page](https://en.wikipedia.org/wiki/TXS_0506%2B056)*"
   ]
  },
  {
   "cell_type": "code",
   "execution_count": 14,
   "metadata": {
    "collapsed": true
   },
   "outputs": [],
   "source": [
    "from astropy.coordinates import SkyCoord, Distance\n",
    "from astropy import units"
   ]
  },
  {
   "cell_type": "code",
   "execution_count": 23,
   "metadata": {},
   "outputs": [
    {
     "name": "stdout",
     "output_type": "stream",
     "text": [
      "(3.91330246e+08, 1.74472886e+09, 1.78257822e+08) pc\n"
     ]
    }
   ],
   "source": [
    "RA = \"05h 09m 25.9645434784s\" #right ascension\n",
    "Dec= \"+05d 41m 35.333636817s\" #declination\n",
    "z = 0.3365 #reshift\n",
    "\n",
    "dist = Distance(z=z).to(units.pc)\n",
    "coord = SkyCoord(RA, Dec, dist)\n",
    "\n",
    "print(coord.cartesian)"
   ]
  },
  {
   "cell_type": "code",
   "execution_count": null,
   "metadata": {
    "collapsed": true
   },
   "outputs": [],
   "source": []
  }
 ],
 "metadata": {
  "anaconda-cloud": {},
  "kernelspec": {
   "display_name": "Python [default]",
   "language": "python",
   "name": "python3"
  },
  "language_info": {
   "codemirror_mode": {
    "name": "ipython",
    "version": 3
   },
   "file_extension": ".py",
   "mimetype": "text/x-python",
   "name": "python",
   "nbconvert_exporter": "python",
   "pygments_lexer": "ipython3",
   "version": "3.5.2"
  }
 },
 "nbformat": 4,
 "nbformat_minor": 1
}
